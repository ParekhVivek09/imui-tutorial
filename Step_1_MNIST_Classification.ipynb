{
 "cells": [
  {
   "cell_type": "code",
   "execution_count": 13,
   "metadata": {},
   "outputs": [
    {
     "data": {
      "text/plain": [
       "'1.3.0'"
      ]
     },
     "execution_count": 13,
     "metadata": {},
     "output_type": "execute_result"
    }
   ],
   "source": [
    "import tensorflow as tf \n",
    "from tensorflow.python.framework import graph_util # used for exporting the graph\n",
    "\n",
    "# Importing the MNIST data set.\n",
    "from tensorflow.examples.tutorials.mnist import input_data\n",
    "\n",
    "# Importing matplotlib to plot images.\n",
    "import matplotlib.pyplot as plt\n",
    "import numpy as np\n",
    "%matplotlib inline\n",
    "\n",
    "# Importing SK-learn to calculate precision and recall\n",
    "import sklearn as sk\n",
    "import sklearn.metrics\n",
    "\n",
    "MODEL_SAVE_PATH = \"./\"\n",
    "# Please fill in your attendee number for identification of your model later on\n",
    "ATTENDEE_ID = 10\n",
    "\n",
    "tf.__version__"
   ]
  },
  {
   "cell_type": "markdown",
   "metadata": {},
   "source": [
    "## GPU and CPU settings\n",
    "If GPU is not available, comment out the bottom block."
   ]
  },
  {
   "cell_type": "code",
   "execution_count": 2,
   "metadata": {
    "collapsed": true
   },
   "outputs": [],
   "source": [
    "# If GPU is not available: \n",
    "# GPU_USE = '/cpu:0'\n",
    "# config = tf.ConfigProto(device_count = {\"GPU\": 0})\n",
    "\n",
    "\n",
    "# If GPU is available: \n",
    "GPU_USE = '/gpu:0'\n",
    "config = tf.ConfigProto()\n",
    "config.log_device_placement=True\n",
    "config.allow_soft_placement=True\n",
    "config.gpu_options.allow_growth=True\n",
    "config.gpu_options.per_process_gpu_memory_fraction=0.1\n",
    "config.gpu_options.allocator_type = 'BFC'"
   ]
  },
  {
   "cell_type": "markdown",
   "metadata": {},
   "source": [
    "## Loading MNIST Data set"
   ]
  },
  {
   "cell_type": "code",
   "execution_count": 3,
   "metadata": {},
   "outputs": [
    {
     "name": "stdout",
     "output_type": "stream",
     "text": [
      "Extracting mnist_data/train-images-idx3-ubyte.gz\n",
      "Extracting mnist_data/train-labels-idx1-ubyte.gz\n",
      "Extracting mnist_data/t10k-images-idx3-ubyte.gz\n",
      "Extracting mnist_data/t10k-labels-idx1-ubyte.gz\n"
     ]
    }
   ],
   "source": [
    "mnist = input_data.read_data_sets(\"mnist_data/\", one_hot=True) # tf.estimator handles classes itself\n",
    "\n",
    "train_x = mnist.train.images\n",
    "train_y = mnist.train.labels\n",
    "\n",
    "test_x = mnist.test.images\n",
    "test_y = mnist.test.labels"
   ]
  },
  {
   "cell_type": "code",
   "execution_count": 4,
   "metadata": {},
   "outputs": [
    {
     "data": {
      "text/plain": [
       "<matplotlib.text.Text at 0x7f925603d978>"
      ]
     },
     "execution_count": 4,
     "metadata": {},
     "output_type": "execute_result"
    },
    {
     "data": {
      "image/png": "[encoded data removed]",
      "text/plain": [
       "<matplotlib.figure.Figure at 0x7f925805ba20>"
      ]
     },
     "metadata": {},
     "output_type": "display_data"
    }
   ],
   "source": [
    "# Plotting an example image\n",
    "i = 1\n",
    "plt.imshow(mnist.train.images[i].reshape(28,28)) #np.sqrt(784) = 28\n",
    "plt.title(\"Label for image %i is: %s\" % (i, np.argmax(mnist.train.labels[i])))"
   ]
  },
  {
   "cell_type": "markdown",
   "metadata": {},
   "source": [
    "## Training parameters"
   ]
  },
  {
   "cell_type": "code",
   "execution_count": 5,
   "metadata": {
    "collapsed": true
   },
   "outputs": [],
   "source": [
    "# Number of classes\n",
    "n_classes = len(mnist.train.labels[0]) # equals 10 as we have 10 numbers to classify.\n",
    "\n",
    "# Number of features as input for the neural network\n",
    "n_features = len(mnist.train.images[0]) # equals to 768 (28 x 28 image)\n",
    "\n",
    "# Input and output node names\n",
    "input_tensor = \"input\" \n",
    "output_tensor = \"output\""
   ]
  },
  {
   "cell_type": "markdown",
   "metadata": {},
   "source": [
    "## Hyperparameters"
   ]
  },
  {
   "cell_type": "code",
   "execution_count": 6,
   "metadata": {
    "collapsed": true
   },
   "outputs": [],
   "source": [
    "tf.reset_default_graph()\n",
    "\n",
    "# Number of neurons per layer\n",
    "n_hidden_1 = 10 \n",
    "\n",
    "# Training settings\n",
    "learning_rate = 0.1\n",
    "batch_size = 100\n",
    "training_epochs = 20"
   ]
  },
  {
   "cell_type": "markdown",
   "metadata": {},
   "source": [
    "## Network definition"
   ]
  },
  {
   "cell_type": "code",
   "execution_count": 7,
   "metadata": {
    "collapsed": true
   },
   "outputs": [],
   "source": [
    "# Variable definition\n",
    "_x = tf.placeholder(tf.float32, [None, n_features], name=input_tensor)\n",
    "_y = tf.placeholder(tf.float32, [None, n_classes], name=\"y\")\n",
    "\n",
    "rg_weights = {\n",
    "    'h1': tf.Variable(tf.random_normal([n_features, n_hidden_1])),\n",
    "    'hOut': tf.Variable(tf.random_normal([n_hidden_1, n_classes]))\n",
    "}\n",
    "\n",
    "rg_biases =  {\n",
    "    'b1': tf.Variable(tf.random_normal([n_hidden_1])),\n",
    "    'bOut': tf.Variable(tf.random_normal([n_classes]))\n",
    "}\n",
    "\n",
    "    \n",
    "def reg_perceptron(t, weights, biases):\n",
    "    t = tf.nn.relu(tf.add(tf.matmul(t, weights['h1']), biases['b1']), name = \"layer_1\")\n",
    "    t = tf.add(tf.matmul(t, weights['hOut'], name=\"LOut_MatMul\"), biases['bOut'], name = output_tensor)\n",
    "    return t\n",
    "    \n",
    "pred = reg_perceptron(_x, rg_weights, rg_biases)\n",
    "cost = tf.reduce_mean(tf.nn.softmax_cross_entropy_with_logits(logits=pred, labels=_y))"
   ]
  },
  {
   "cell_type": "markdown",
   "metadata": {},
   "source": [
    "## Optimizer selection"
   ]
  },
  {
   "cell_type": "code",
   "execution_count": 8,
   "metadata": {
    "collapsed": true
   },
   "outputs": [],
   "source": [
    "optimizer = tf.train.GradientDescentOptimizer(learning_rate=learning_rate).minimize(cost)\n",
    "# Toggle comments to try out different optimizers\n",
    "# optimizer = tf.train.AdamOptimizer(learning_rate=learning_rate).minimize(cost)\n",
    "# optimizer = tf.train.AdagradOptimizer(learning_rate=learning_rate).minimize(cost)\n",
    "# optimizer = tf.train.GradientDescentOptimizer(learning_rate=learning_rate).minimize(cost)\n",
    "# optimizer = tf.train.MomentumOptimizer(learning_rate=learning_rate).minimize(cost)\n",
    "# optimizer = tf.train.AdadeltaOptimizer(learning_rate=learning_rate).minimize(cost)\n",
    "# optimizer = tf.train.FtrlOptimizer(learning_rate=learning_rate).minimize(cost)\n",
    "# optimizer = tf.train.FtrlOptimizer(learning_rate=learning_rate).minimize(cost)"
   ]
  },
  {
   "cell_type": "markdown",
   "metadata": {},
   "source": [
    "## Initialization of network"
   ]
  },
  {
   "cell_type": "code",
   "execution_count": 9,
   "metadata": {
    "collapsed": true
   },
   "outputs": [],
   "source": [
    "# Definition of TF operations\n",
    "init_op = tf.global_variables_initializer()\n",
    "saver = tf.train.Saver()"
   ]
  },
  {
   "cell_type": "markdown",
   "metadata": {},
   "source": [
    "## Train the neural network"
   ]
  },
  {
   "cell_type": "code",
   "execution_count": 10,
   "metadata": {
    "scrolled": false
   },
   "outputs": [
    {
     "name": "stdout",
     "output_type": "stream",
     "text": [
      "Epoch:   0 - Acc: 0.36, Prec: 0.36,  Rec: 0.36 \n",
      "Epoch:   1 - Acc: 0.53, Prec: 0.53,  Rec: 0.53 \n",
      "Epoch:   2 - Acc: 0.63, Prec: 0.63,  Rec: 0.63 \n",
      "Epoch:   3 - Acc: 0.68, Prec: 0.68,  Rec: 0.68 \n",
      "Epoch:   4 - Acc: 0.73, Prec: 0.73,  Rec: 0.73 \n",
      "Epoch:   5 - Acc: 0.76, Prec: 0.76,  Rec: 0.76 \n",
      "Epoch:   6 - Acc: 0.78, Prec: 0.78,  Rec: 0.78 \n",
      "Epoch:   7 - Acc: 0.80, Prec: 0.80,  Rec: 0.80 \n",
      "Epoch:   8 - Acc: 0.81, Prec: 0.81,  Rec: 0.81 \n",
      "Epoch:   9 - Acc: 0.82, Prec: 0.82,  Rec: 0.82 \n",
      "Epoch:  10 - Acc: 0.83, Prec: 0.83,  Rec: 0.83 \n",
      "Epoch:  11 - Acc: 0.83, Prec: 0.83,  Rec: 0.83 \n",
      "Epoch:  12 - Acc: 0.84, Prec: 0.84,  Rec: 0.84 \n",
      "Epoch:  13 - Acc: 0.84, Prec: 0.84,  Rec: 0.84 \n",
      "Epoch:  14 - Acc: 0.84, Prec: 0.84,  Rec: 0.84 \n",
      "Epoch:  15 - Acc: 0.85, Prec: 0.85,  Rec: 0.85 \n",
      "Epoch:  16 - Acc: 0.85, Prec: 0.85,  Rec: 0.85 \n",
      "Epoch:  17 - Acc: 0.86, Prec: 0.86,  Rec: 0.86 \n",
      "Epoch:  18 - Acc: 0.86, Prec: 0.86,  Rec: 0.86 \n",
      "Epoch:  19 - Acc: 0.87, Prec: 0.87,  Rec: 0.87 \n",
      "Optimization Finished!\n",
      "Final test results: Acc: 0.87, Prec: 0.87,  Rec: 0.87 \n",
      "[[ 947    0    1    2    1    3    7    6   11    2]\n",
      " [   0 1111    5    3    0    1    3    1   10    1]\n",
      " [  24   24  839   37   26    6   26   10   35    5]\n",
      " [  21    1   27  848    4   58    0   15   17   19]\n",
      " [   2    4    6    4  770    3   29    2    6  156]\n",
      " [  35    3    2   31    4  728   16    6   42   25]\n",
      " [  19    3   11    0   26   15  866    2   13    3]\n",
      " [   2   17   26   15   10    4    0  877    4   73]\n",
      " [  10   17   31   42    8   19   24   13  784   26]\n",
      " [  16    5    0    9   48    8    1   26    7  889]]\n",
      "Model save path: ./mnist_model/\n"
     ]
    }
   ],
   "source": [
    "save_path = MODEL_SAVE_PATH + \"mnist_model/\"\n",
    "\n",
    "with tf.device(GPU_USE):\n",
    "    with tf.Session(config=config) as sess:\n",
    "        sess.run(init_op)\n",
    "\n",
    "        for epoch in range(training_epochs):\n",
    "            total_batch = int(len(train_x)/batch_size)\n",
    "            \n",
    "            \n",
    "            # Loop over all batches for training\n",
    "            for i in range(total_batch):\n",
    "                lower_bound = i * batch_size\n",
    "                upper_bound = i * batch_size + batch_size\n",
    "                batch_x = train_x[lower_bound : upper_bound]\n",
    "                batch_y = train_y[lower_bound : upper_bound]\n",
    "\n",
    "                # Run optimization operation and calculate cost\n",
    "                feed_dict = {_x: batch_x, _y: batch_y}\n",
    "                _, c = sess.run([optimizer, cost], feed_dict = feed_dict)\n",
    "                \n",
    "            \n",
    "            # Print test results.\n",
    "            correct_prediction = tf.equal(tf.argmax(pred, 1), tf.argmax(_y, 1))\n",
    "            acc_op = tf.reduce_mean(tf.cast(correct_prediction, \"float\"))\n",
    "            accuracy = acc_op.eval({_x: test_x, _y: test_y})\n",
    "\n",
    "            y_pred = tf.argmax(pred, 1).eval({_x: test_x, _y: test_y})\n",
    "            y_true = np.argmax(test_y,1)\n",
    "            precision = sk.metrics.precision_score(y_true, y_pred, average=\"micro\")\n",
    "            recall = sk.metrics.recall_score(y_true, y_pred, average=\"micro\")\n",
    "            print (\"Epoch: %3.i - Acc: %.2f, Prec: %.2f,  Rec: %.2f \" % (epoch, accuracy, precision, recall))\n",
    "\n",
    "#             op_assign_cost = _cost.assign(avg_cost)\n",
    "#             op_assign_acc = _accuracy.assign(accuracy)\n",
    "#             _, _ = sess.run([op_assign_cost, op_assign_acc]) \n",
    "\n",
    "#             feed_dict = {_x: test_x, _y: test_y}\n",
    "#             summary = sess.run(merged_summary, feed_dict=feed_dict)\n",
    "#             train_writer.add_summary(summary,  _epoch_count.eval())\n",
    "\n",
    "            saver.save(sess, save_path + \"model\", global_step=epoch, write_meta_graph=True)\n",
    "            \n",
    "        print(\"Optimization Finished!\")\n",
    "\n",
    "        # Test model\n",
    "        correct_prediction = tf.equal(tf.argmax(pred, 1), tf.argmax(_y, 1))\n",
    "        acc_op = tf.reduce_mean(tf.cast(correct_prediction, \"float\"))\n",
    "        accuracy = acc_op.eval({_x: test_x, _y: test_y})\n",
    "\n",
    "        y_pred = tf.argmax(pred, 1).eval({_x: test_x, _y: test_y})\n",
    "        y_true = np.argmax(test_y,1)\n",
    "        precision = sk.metrics.precision_score(y_true, y_pred, average=\"micro\")\n",
    "        recall = sk.metrics.recall_score(y_true, y_pred, average=\"micro\")\n",
    "        print (\"Final test results: Acc: %.2f, Prec: %.2f,  Rec: %.2f \" % (accuracy, precision, recall))\n",
    "        \n",
    "        print (sk.metrics.confusion_matrix(y_true, y_pred))\n",
    "        \n",
    "        print(\"Model save path:\", save_path)\n",
    "        "
   ]
  },
  {
   "cell_type": "markdown",
   "metadata": {},
   "source": [
    "## Loading and exporting model"
   ]
  },
  {
   "cell_type": "code",
   "execution_count": 14,
   "metadata": {
    "collapsed": true
   },
   "outputs": [],
   "source": [
    "\n",
    "\n",
    "def freeze_graph(model_folder, model_file_name = None):\n",
    "    GPU_USE = '/cpu:0'\n",
    "    config = tf.ConfigProto(device_count = {\"GPU\": 0})\n",
    "    \n",
    "    # We retrieve our checkpoint fullpath\n",
    "    checkpoint = tf.train.get_checkpoint_state(model_folder)\n",
    "    input_checkpoint = checkpoint.model_checkpoint_path\n",
    "\n",
    "    absolute_model_folder = \"/\".join(input_checkpoint.split('/')[:-1])\n",
    "    print (absolute_model_folder)\n",
    "    if (model_file_name == None):\n",
    "        model_file_name = input_checkpoint.split(\"/\")[-1].split(\".\")[0]\n",
    "    else:\n",
    "        input_checkpoint = absolute_model_folder + \"/\" + model_file_name\n",
    "    print (model_file_name)\n",
    "    if ATTENDEE_ID == None:\n",
    "        print (\"ERROR: Please set ATTENDEE_ID first\")\n",
    "        return\n",
    "    \n",
    "    # If you use our Script outside of the tutorial please specify your path to store the model\n",
    "    output_graph = \"/var/www/html/tutorial-data/model-\" + str(ATTENDEE_ID) + \".pb\"\n",
    "\n",
    "    # Output node for TensorFlow to decide which part of the Graph to keep.\n",
    "\n",
    "    print(\"Saver is loading: \" + input_checkpoint + '.meta')\n",
    "    saver = tf.train.import_meta_graph(input_checkpoint + '.meta', clear_devices=True)\n",
    "\n",
    "    # We retrieve the protobuf graph definition\n",
    "    graph = tf.get_default_graph()\n",
    "    input_graph_def = graph.as_graph_def()\n",
    "\n",
    "    # start session and write the exported file. \n",
    "    with tf.device(GPU_USE):\n",
    "        with tf.Session() as sess:\n",
    "            saver.restore(sess, input_checkpoint)\n",
    "\n",
    "            output_graph_def = graph_util.convert_variables_to_constants(\n",
    "                sess, # The session is used to retrieve the weights\n",
    "                input_graph_def, # The graph_def is used to retrieve the nodes \n",
    "                [output_tensor] # The output node names are used to select the useful nodes.\n",
    "            ) \n",
    "\n",
    "            # Serialize and dump the output graph to the filesystem\n",
    "            with tf.gfile.GFile(output_graph, \"wb\") as f:\n",
    "                f.write(output_graph_def.SerializeToString())\n",
    "            print(\"%d ops in the final graph.\" % len(output_graph_def.node))\n",
    "            print(\"Wrote model to %s\" % output_graph)"
   ]
  },
  {
   "cell_type": "code",
   "execution_count": 15,
   "metadata": {},
   "outputs": [
    {
     "name": "stdout",
     "output_type": "stream",
     "text": [
      "./mnist_model\n",
      "model-19\n",
      "Saver is loading: ./mnist_model/model-19.meta\n",
      "INFO:tensorflow:Restoring parameters from ./mnist_model/model-19\n",
      "INFO:tensorflow:Froze 4 variables.\n",
      "Converted 4 variables to const ops.\n",
      "14 ops in the final graph.\n",
      "Wrote model to /var/www/html/tutorial-data/model-1.pb\n"
     ]
    }
   ],
   "source": [
    "freeze_graph(save_path)"
   ]
  },
  {
   "cell_type": "code",
   "execution_count": null,
   "metadata": {
    "collapsed": true
   },
   "outputs": [],
   "source": []
  }
 ],
 "metadata": {
  "kernelspec": {
   "display_name": "Python 3",
   "language": "python",
   "name": "python3"
  },
  "language_info": {
   "codemirror_mode": {
    "name": "ipython",
    "version": 3
   },
   "file_extension": ".py",
   "mimetype": "text/x-python",
   "name": "python",
   "nbconvert_exporter": "python",
   "pygments_lexer": "ipython3",
   "version": "3.6.1"
  }
 },
 "nbformat": 4,
 "nbformat_minor": 2
}
